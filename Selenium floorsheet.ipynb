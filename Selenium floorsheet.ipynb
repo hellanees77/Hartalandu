{
 "cells": [
  {
   "cell_type": "code",
   "execution_count": 1,
   "id": "8c48632e",
   "metadata": {},
   "outputs": [],
   "source": [
    "from selenium import webdriver\n",
    "from selenium.webdriver.chrome.options import Options\n",
    "from selenium.webdriver.chrome.service import Service as ChromeService\n",
    "from webdriver_manager.chrome import ChromeDriverManager\n",
    "from selenium.webdriver.common.by import By\n",
    "\n",
    "from bs4 import BeautifulSoup"
   ]
  },
  {
   "cell_type": "code",
   "execution_count": 2,
   "id": "86e9d970",
   "metadata": {},
   "outputs": [],
   "source": [
    "url = 'https://www.nepalstock.com.np/floor-sheet'"
   ]
  },
  {
   "cell_type": "code",
   "execution_count": 3,
   "id": "b287ac78",
   "metadata": {},
   "outputs": [],
   "source": [
    "# Set up the browser options\n",
    "chrome_options = Options()\n",
    "#chrome_options.add_argument('--headless')  \n",
    "# Run Chrome in headless mode (no GUI)"
   ]
  },
  {
   "cell_type": "code",
   "execution_count": 4,
   "id": "fcbd72b2",
   "metadata": {},
   "outputs": [],
   "source": [
    "# Create a WebDriver instance\n",
    "driver = webdriver.Chrome(options=chrome_options)"
   ]
  },
  {
   "cell_type": "code",
   "execution_count": 5,
   "id": "ce47c921",
   "metadata": {},
   "outputs": [],
   "source": [
    "# Load the page\n",
    "driver.get(url)"
   ]
  },
  {
   "cell_type": "code",
   "execution_count": null,
   "id": "ac3ac95d",
   "metadata": {},
   "outputs": [],
   "source": [
    "# Wait for a few seconds to allow dynamic content to load (you might need to adjust this)\n",
    "driver.implicitly_wait(1000)"
   ]
  },
  {
   "cell_type": "code",
   "execution_count": 7,
   "id": "ebd02c61",
   "metadata": {},
   "outputs": [],
   "source": [
    "# Get the page source after JavaScript execution\n",
    "page_source = driver.page_source"
   ]
  },
  {
   "cell_type": "code",
   "execution_count": null,
   "id": "69f78a46",
   "metadata": {},
   "outputs": [],
   "source": [
    "\n",
    "# next_page = driver.find_element(By.XPATH, '//a[text('4')]').click()\n",
    "next_page = driver.find_element(By.XPATH,\"//a[number()='4']\").click()"
   ]
  },
  {
   "cell_type": "code",
   "execution_count": null,
   "id": "a5148103",
   "metadata": {},
   "outputs": [],
   "source": [
    "all_list_elements = driver.find_elements(By.XPATH,'//*[@id=\"demo1\"]/div[2]/div/ul/li')\n",
    "number_of_pages = int(all_list_elements[-2].text)\n",
    "    for _ in range(number_of_pages):\n",
    "          next_page = driver.find_element(By.XPATH,\"//a[text()='Next']\").click()\n",
    "             time.sleep(2)"
   ]
  },
  {
   "cell_type": "code",
   "execution_count": null,
   "id": "feab1b2c",
   "metadata": {},
   "outputs": [],
   "source": [
    "# Locate all elements on the current page of the pagination element\n",
    "page_elements = driver.find_elements(By.XPATH,'//*[@id=\"demo1\"]/div[1]/ul/li')"
   ]
  },
  {
   "cell_type": "code",
   "execution_count": null,
   "id": "cda37f8f",
   "metadata": {},
   "outputs": [],
   "source": [
    "# Extract the text content of the first element in the list\n",
    "text_content = page_elements[0].get_attribute('innerHTML')\n"
   ]
  },
  {
   "cell_type": "code",
   "execution_count": null,
   "id": "1a9df4c1",
   "metadata": {},
   "outputs": [],
   "source": [
    "# Print the text content to the console\n",
    "print(text_content)"
   ]
  },
  {
   "cell_type": "code",
   "execution_count": 8,
   "id": "8e0da697",
   "metadata": {},
   "outputs": [],
   "source": [
    "# Close the browser\n",
    "driver.quit()"
   ]
  }
 ],
 "metadata": {
  "kernelspec": {
   "display_name": "Python 3 (ipykernel)",
   "language": "python",
   "name": "python3"
  },
  "language_info": {
   "codemirror_mode": {
    "name": "ipython",
    "version": 3
   },
   "file_extension": ".py",
   "mimetype": "text/x-python",
   "name": "python",
   "nbconvert_exporter": "python",
   "pygments_lexer": "ipython3",
   "version": "3.11.5"
  },
  "varInspector": {
   "cols": {
    "lenName": 16,
    "lenType": 16,
    "lenVar": 40
   },
   "kernels_config": {
    "python": {
     "delete_cmd_postfix": "",
     "delete_cmd_prefix": "del ",
     "library": "var_list.py",
     "varRefreshCmd": "print(var_dic_list())"
    },
    "r": {
     "delete_cmd_postfix": ") ",
     "delete_cmd_prefix": "rm(",
     "library": "var_list.r",
     "varRefreshCmd": "cat(var_dic_list()) "
    }
   },
   "types_to_exclude": [
    "module",
    "function",
    "builtin_function_or_method",
    "instance",
    "_Feature"
   ],
   "window_display": false
  }
 },
 "nbformat": 4,
 "nbformat_minor": 5
}
