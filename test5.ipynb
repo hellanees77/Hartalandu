{
 "cells": [
  {
   "cell_type": "code",
   "execution_count": 1,
   "id": "27ce82fe",
   "metadata": {},
   "outputs": [],
   "source": [
    "from selenium import webdriver\n",
    "from selenium.webdriver.common.by import By\n",
    "import pandas as pd\n",
    "import time"
   ]
  },
  {
   "cell_type": "code",
   "execution_count": 2,
   "id": "02c74a40",
   "metadata": {},
   "outputs": [],
   "source": [
    "# Set up the WebDriver\n",
    "driver = webdriver.Chrome()  # Change this to your WebDriver (e.g., Firefox, Edge)"
   ]
  },
  {
   "cell_type": "code",
   "execution_count": 3,
   "id": "247e20f3",
   "metadata": {},
   "outputs": [],
   "source": [
    "# Navigate to the webpage\n",
    "url = 'https://www.nepalstock.com.np/floor-sheet'\n",
    "driver.get(url)\n"
   ]
  },
  {
   "cell_type": "code",
   "execution_count": 4,
   "id": "cb56575e",
   "metadata": {},
   "outputs": [],
   "source": [
    "# Define a function to extract data from the current page\n",
    "def extract_data_from_page():\n",
    "    # Your scraping logic here\n",
    "    # Example: Extracting data from the table\n",
    "    data = []\n",
    "    rows = driver.find_elements(By.XPATH, \"//table[@class='table']/tbody/tr\")\n",
    "    for row in rows:\n",
    "        columns = row.find_elements(By.TAG_NAME, \"td\")\n",
    "        row_data = [col.text for col in columns]\n",
    "        data.append(row_data)\n",
    "    return data\n"
   ]
  },
  {
   "cell_type": "code",
   "execution_count": null,
   "id": "180cf7e3",
   "metadata": {},
   "outputs": [],
   "source": [
    "# Pagination loop\n",
    "all_data = []\n",
    "while True:\n",
    "    # Extract data from the current page\n",
    "    current_page_data = extract_data_from_page()\n",
    "    all_data.extend(current_page_data)\n"
   ]
  },
  {
   "cell_type": "code",
   "execution_count": null,
   "id": "748ea2ec",
   "metadata": {},
   "outputs": [],
   "source": [
    "# Move to the next page if available\n",
    "    next_button = driver.find_element(By.XPATH, \"//a[@aria-label='Next page']\")\n",
    "    if 'disabled' in next_button.get_attribute('class'):\n",
    "        break  # Break the loop if the \"Next\" button is disabled (last page)\n",
    "    next_button.click()\n"
   ]
  },
  {
   "cell_type": "code",
   "execution_count": null,
   "id": "1d11cffd",
   "metadata": {},
   "outputs": [],
   "source": [
    "# Add a delay to avoid overloading the server\n",
    "    time.sleep(2)\n"
   ]
  },
  {
   "cell_type": "code",
   "execution_count": null,
   "id": "8f4b8509",
   "metadata": {},
   "outputs": [],
   "source": [
    "# Close the WebDriver\n",
    "driver.quit()\n"
   ]
  },
  {
   "cell_type": "code",
   "execution_count": null,
   "id": "12708349",
   "metadata": {},
   "outputs": [],
   "source": [
    "# Convert the data to a pandas DataFrame\n",
    "columns = [\"SN\", \"Contract No.\", \"Stock Symbol\", \"Buyer\", \"Seller\", \"Quantity\", \"Rate (Rs)\", \"Amount (Rs)\"]\n",
    "df = pd.DataFrame(all_data, columns=columns)\n"
   ]
  },
  {
   "cell_type": "code",
   "execution_count": null,
   "id": "5adaf750",
   "metadata": {},
   "outputs": [],
   "source": [
    "# Save to CSV\n",
    "df.to_csv('output.csv', index=False)"
   ]
  },
  {
   "cell_type": "code",
   "execution_count": null,
   "id": "3c4ee804",
   "metadata": {},
   "outputs": [],
   "source": []
  }
 ],
 "metadata": {
  "kernelspec": {
   "display_name": "Python 3 (ipykernel)",
   "language": "python",
   "name": "python3"
  },
  "language_info": {
   "codemirror_mode": {
    "name": "ipython",
    "version": 3
   },
   "file_extension": ".py",
   "mimetype": "text/x-python",
   "name": "python",
   "nbconvert_exporter": "python",
   "pygments_lexer": "ipython3",
   "version": "3.11.5"
  },
  "varInspector": {
   "cols": {
    "lenName": 16,
    "lenType": 16,
    "lenVar": 40
   },
   "kernels_config": {
    "python": {
     "delete_cmd_postfix": "",
     "delete_cmd_prefix": "del ",
     "library": "var_list.py",
     "varRefreshCmd": "print(var_dic_list())"
    },
    "r": {
     "delete_cmd_postfix": ") ",
     "delete_cmd_prefix": "rm(",
     "library": "var_list.r",
     "varRefreshCmd": "cat(var_dic_list()) "
    }
   },
   "types_to_exclude": [
    "module",
    "function",
    "builtin_function_or_method",
    "instance",
    "_Feature"
   ],
   "window_display": false
  }
 },
 "nbformat": 4,
 "nbformat_minor": 5
}
