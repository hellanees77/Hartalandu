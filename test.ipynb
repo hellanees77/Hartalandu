{
 "cells": [
  {
   "cell_type": "code",
   "execution_count": 19,
   "id": "422405cf",
   "metadata": {},
   "outputs": [],
   "source": [
    "import scrapy\n",
    "import json"
   ]
  },
  {
   "cell_type": "code",
   "execution_count": 20,
   "id": "ac5d1c10",
   "metadata": {},
   "outputs": [],
   "source": [
    "class NepseFloorsheet(scrapy.Spider):\n",
    "    name = 'nepse'\n",
    "    start_urls = ['https://www.nepalstock.com.np/floor-sheet']"
   ]
  },
  {
   "cell_type": "code",
   "execution_count": 21,
   "id": "7a03ed51",
   "metadata": {},
   "outputs": [],
   "source": [
    "headers = {\n",
    "\"Accept\":\"application/json, text/plain, */*\",\n",
    "\"Accept-Encoding\":\"gzip, deflate, br\",\n",
    "\"Accept-Language\":\"en-US,en;q=0.9\",\n",
    "\"Authorization\":\"Salter eyJlbmMiOiJBMTI4Q0JDLUhTMjU2IiwiYWxnIjoiZGlyIn0..gESL0SUr0u7ONStUkbFcMQ.3C-7_er5sRztbH8uZ5EYzwkIttSgH-PzDnKFZv0tmbVcIoBZMTBy6mAkC9eQ1VuBtO5ePLmu3Vgp2vSLo5K5vEn93kLb-LPKNnpVqsaQvnYMD2SEhfaWV2lK0udqhSp-5r5sQDFttR5DMA4RWXbtuQ.68DSVR-bWuGEjA_zr9NOkw\",\n",
    "\"Cache-Control\":\"no-cache\",\n",
    "\"Connection\":\"keep-alive\",\n",
    "\"Content-Type\":\"application/json\",\n",
    "\"Host\":\"www.nepalstock.com.np\",\n",
    "\"Origin\":\"https://www.nepalstock.com.np\",\n",
    "\"Pragma\":\"no-cache\",\n",
    "\"Referer\":\"https://www.nepalstock.com.np/floor-sheet\",\n",
    "\"Sec-Fetch-Mode\":\"cors\",\n",
    "\"Sec-Fetch-Site\":\"same-origin\",\n",
    "\"User-Agent\":\"Mozilla/5.0 (Macintosh; Intel Mac OS X 10_15_7) AppleWebKit/537.36 (KHTML, like Gecko) Chrome/120.0.0.0 Safari/537.36\",\n",
    "    \n",
    "}\n"
   ]
  },
  {
   "cell_type": "code",
   "execution_count": 22,
   "id": "74b59bd1",
   "metadata": {},
   "outputs": [],
   "source": [
    "def parse(self, response):\n",
    "    url = 'https://www.nepalstock.com.np/api/nots/nepse-data/floorsheet?&sort=contractId,desc'\n",
    "    request = scrapy.Request(url,\n",
    "                        callback=self.parse_api,\n",
    "                        headers=self.headers)\n",
    "    yield request\n",
    "def parse_api(self,response):\n",
    "    base_url = 'https://www.nepalstock.com.np/api/nots/nepse-data/floorsheet?page=1&size=20&sort=contractId,desc'\n",
    "    raw_data = response.body\n",
    "    data = json.loads(raw_data)\n",
    "    for sheet in data:\n",
    "        sheet_code = sheet['contractQuantity']\n",
    "        sheet_url = base_url+sheet_code\n",
    "        request = scrapy.Request(sheet_url, callback= self.parse_sheet, headers=self.headers)\n",
    "        yield request\n",
    "\n",
    "def parse_sheet(self,response):\n",
    "    raw_data = response.body\n",
    "    data = json.loads(raw_data)\n",
    "    yield {\n",
    "        'Stock Symbol': data['stockSymbol'],\n",
    "        'Buyer': data['buyerMemberId'],\n",
    "        'Seller': data['sellerMemberId'],\n",
    "        'Business Date': data['businessDate'],\n",
    "        'Contract Rate': data['contractRate'],\n",
    "        \n",
    "    }\n",
    "        "
   ]
  },
  {
   "cell_type": "code",
   "execution_count": null,
   "id": "e53d477f",
   "metadata": {},
   "outputs": [],
   "source": []
  },
  {
   "cell_type": "code",
   "execution_count": null,
   "id": "6c32b6ce",
   "metadata": {},
   "outputs": [],
   "source": []
  }
 ],
 "metadata": {
  "kernelspec": {
   "display_name": "Python 3 (ipykernel)",
   "language": "python",
   "name": "python3"
  },
  "language_info": {
   "codemirror_mode": {
    "name": "ipython",
    "version": 3
   },
   "file_extension": ".py",
   "mimetype": "text/x-python",
   "name": "python",
   "nbconvert_exporter": "python",
   "pygments_lexer": "ipython3",
   "version": "3.11.5"
  },
  "varInspector": {
   "cols": {
    "lenName": 16,
    "lenType": 16,
    "lenVar": 40
   },
   "kernels_config": {
    "python": {
     "delete_cmd_postfix": "",
     "delete_cmd_prefix": "del ",
     "library": "var_list.py",
     "varRefreshCmd": "print(var_dic_list())"
    },
    "r": {
     "delete_cmd_postfix": ") ",
     "delete_cmd_prefix": "rm(",
     "library": "var_list.r",
     "varRefreshCmd": "cat(var_dic_list()) "
    }
   },
   "types_to_exclude": [
    "module",
    "function",
    "builtin_function_or_method",
    "instance",
    "_Feature"
   ],
   "window_display": false
  }
 },
 "nbformat": 4,
 "nbformat_minor": 5
}
