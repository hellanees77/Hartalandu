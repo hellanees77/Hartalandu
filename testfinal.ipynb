{
 "cells": [
  {
   "cell_type": "code",
   "execution_count": 1,
   "id": "14ac28f6",
   "metadata": {},
   "outputs": [],
   "source": [
    "# Import the necessary libraries\n",
    "from selenium import webdriver\n",
    "from selenium.webdriver.chrome.service import Service as ChromeService\n",
    "from selenium.webdriver.support.ui import WebDriverWait\n",
    "from selenium.webdriver.support import expected_conditions as EC\n",
    "from webdriver_manager.chrome import ChromeDriverManager\n",
    "from bs4 import BeautifulSoup\n",
    "import time    "
   ]
  },
  {
   "cell_type": "code",
   "execution_count": 2,
   "id": "be9972bb",
   "metadata": {},
   "outputs": [],
   "source": [
    "# Install the ChromeDriver executable and start a Chrome browser using Selenium\n",
    "driver = webdriver.Chrome(service=ChromeService(ChromeDriverManager().install()))\n"
   ]
  },
  {
   "cell_type": "code",
   "execution_count": 3,
   "id": "b89a5748",
   "metadata": {},
   "outputs": [],
   "source": [
    "# Navigate to the website and maximize the window\n",
    "driver.get('https://www.nepalstock.com.np/floor-sheet')\n",
    "#driver.maximize_window()\n"
   ]
  },
  {
   "cell_type": "code",
   "execution_count": 3,
   "id": "4853e246",
   "metadata": {},
   "outputs": [
    {
     "ename": "NoSuchElementException",
     "evalue": "Message: no such element: Unable to locate element: {\"method\":\"xpath\",\"selector\":\"//pagination-controls//pagination-template//ul//li/a/span/span[text()='4']\"}\n  (Session info: chrome=120.0.6099.216); For documentation on this error, please visit: https://www.selenium.dev/documentation/webdriver/troubleshooting/errors#no-such-element-exception\nStacktrace:\n0   chromedriver                        0x00000001030cc4dc chromedriver + 4162780\n1   chromedriver                        0x00000001030c4664 chromedriver + 4130404\n2   chromedriver                        0x0000000102d1bbc0 chromedriver + 293824\n3   chromedriver                        0x0000000102d62040 chromedriver + 581696\n4   chromedriver                        0x0000000102da1ab0 chromedriver + 842416\n5   chromedriver                        0x0000000102d556bc chromedriver + 530108\n6   chromedriver                        0x0000000102d56930 chromedriver + 534832\n7   chromedriver                        0x0000000103091e08 chromedriver + 3923464\n8   chromedriver                        0x00000001030963dc chromedriver + 3941340\n9   chromedriver                        0x000000010307a038 chromedriver + 3825720\n10  chromedriver                        0x0000000103096f3c chromedriver + 3944252\n11  chromedriver                        0x000000010306c6f4 chromedriver + 3770100\n12  chromedriver                        0x00000001030b3980 chromedriver + 4061568\n13  chromedriver                        0x00000001030b3af8 chromedriver + 4061944\n14  chromedriver                        0x00000001030c42e4 chromedriver + 4129508\n15  libsystem_pthread.dylib             0x0000000188e1a034 _pthread_start + 136\n16  libsystem_pthread.dylib             0x0000000188e14e3c thread_start + 8\n",
     "output_type": "error",
     "traceback": [
      "\u001b[0;31m---------------------------------------------------------------------------\u001b[0m",
      "\u001b[0;31mNoSuchElementException\u001b[0m                    Traceback (most recent call last)",
      "Cell \u001b[0;32mIn[3], line 4\u001b[0m\n\u001b[1;32m      2\u001b[0m \u001b[38;5;28;01mfrom\u001b[39;00m \u001b[38;5;21;01mselenium\u001b[39;00m\u001b[38;5;21;01m.\u001b[39;00m\u001b[38;5;21;01mwebdriver\u001b[39;00m\u001b[38;5;21;01m.\u001b[39;00m\u001b[38;5;21;01mcommon\u001b[39;00m\u001b[38;5;21;01m.\u001b[39;00m\u001b[38;5;21;01mby\u001b[39;00m \u001b[38;5;28;01mimport\u001b[39;00m By\n\u001b[1;32m      3\u001b[0m \u001b[38;5;66;03m# next_page = driver.find_element(By.XPATH, \"//pagination-controls//pagination-template//ul//li[@class='pagination-next']/a\").click()\u001b[39;00m\n\u001b[0;32m----> 4\u001b[0m next_page \u001b[38;5;241m=\u001b[39m driver\u001b[38;5;241m.\u001b[39mfind_element(By\u001b[38;5;241m.\u001b[39mXPATH, \u001b[38;5;124m\"\u001b[39m\u001b[38;5;124m//pagination-controls//pagination-template//ul//li/a/span/span[text()=\u001b[39m\u001b[38;5;124m'\u001b[39m\u001b[38;5;124m4\u001b[39m\u001b[38;5;124m'\u001b[39m\u001b[38;5;124m]\u001b[39m\u001b[38;5;124m\"\u001b[39m)\n",
      "File \u001b[0;32m/Applications/Utilities/anaconda3/lib/python3.11/site-packages/selenium/webdriver/remote/webdriver.py:742\u001b[0m, in \u001b[0;36mWebDriver.find_element\u001b[0;34m(self, by, value)\u001b[0m\n\u001b[1;32m    739\u001b[0m     by \u001b[38;5;241m=\u001b[39m By\u001b[38;5;241m.\u001b[39mCSS_SELECTOR\n\u001b[1;32m    740\u001b[0m     value \u001b[38;5;241m=\u001b[39m \u001b[38;5;124mf\u001b[39m\u001b[38;5;124m'\u001b[39m\u001b[38;5;124m[name=\u001b[39m\u001b[38;5;124m\"\u001b[39m\u001b[38;5;132;01m{\u001b[39;00mvalue\u001b[38;5;132;01m}\u001b[39;00m\u001b[38;5;124m\"\u001b[39m\u001b[38;5;124m]\u001b[39m\u001b[38;5;124m'\u001b[39m\n\u001b[0;32m--> 742\u001b[0m \u001b[38;5;28;01mreturn\u001b[39;00m \u001b[38;5;28mself\u001b[39m\u001b[38;5;241m.\u001b[39mexecute(Command\u001b[38;5;241m.\u001b[39mFIND_ELEMENT, {\u001b[38;5;124m\"\u001b[39m\u001b[38;5;124musing\u001b[39m\u001b[38;5;124m\"\u001b[39m: by, \u001b[38;5;124m\"\u001b[39m\u001b[38;5;124mvalue\u001b[39m\u001b[38;5;124m\"\u001b[39m: value})[\u001b[38;5;124m\"\u001b[39m\u001b[38;5;124mvalue\u001b[39m\u001b[38;5;124m\"\u001b[39m]\n",
      "File \u001b[0;32m/Applications/Utilities/anaconda3/lib/python3.11/site-packages/selenium/webdriver/remote/webdriver.py:348\u001b[0m, in \u001b[0;36mWebDriver.execute\u001b[0;34m(self, driver_command, params)\u001b[0m\n\u001b[1;32m    346\u001b[0m response \u001b[38;5;241m=\u001b[39m \u001b[38;5;28mself\u001b[39m\u001b[38;5;241m.\u001b[39mcommand_executor\u001b[38;5;241m.\u001b[39mexecute(driver_command, params)\n\u001b[1;32m    347\u001b[0m \u001b[38;5;28;01mif\u001b[39;00m response:\n\u001b[0;32m--> 348\u001b[0m     \u001b[38;5;28mself\u001b[39m\u001b[38;5;241m.\u001b[39merror_handler\u001b[38;5;241m.\u001b[39mcheck_response(response)\n\u001b[1;32m    349\u001b[0m     response[\u001b[38;5;124m\"\u001b[39m\u001b[38;5;124mvalue\u001b[39m\u001b[38;5;124m\"\u001b[39m] \u001b[38;5;241m=\u001b[39m \u001b[38;5;28mself\u001b[39m\u001b[38;5;241m.\u001b[39m_unwrap_value(response\u001b[38;5;241m.\u001b[39mget(\u001b[38;5;124m\"\u001b[39m\u001b[38;5;124mvalue\u001b[39m\u001b[38;5;124m\"\u001b[39m, \u001b[38;5;28;01mNone\u001b[39;00m))\n\u001b[1;32m    350\u001b[0m     \u001b[38;5;28;01mreturn\u001b[39;00m response\n",
      "File \u001b[0;32m/Applications/Utilities/anaconda3/lib/python3.11/site-packages/selenium/webdriver/remote/errorhandler.py:229\u001b[0m, in \u001b[0;36mErrorHandler.check_response\u001b[0;34m(self, response)\u001b[0m\n\u001b[1;32m    227\u001b[0m         alert_text \u001b[38;5;241m=\u001b[39m value[\u001b[38;5;124m\"\u001b[39m\u001b[38;5;124malert\u001b[39m\u001b[38;5;124m\"\u001b[39m]\u001b[38;5;241m.\u001b[39mget(\u001b[38;5;124m\"\u001b[39m\u001b[38;5;124mtext\u001b[39m\u001b[38;5;124m\"\u001b[39m)\n\u001b[1;32m    228\u001b[0m     \u001b[38;5;28;01mraise\u001b[39;00m exception_class(message, screen, stacktrace, alert_text)  \u001b[38;5;66;03m# type: ignore[call-arg]  # mypy is not smart enough here\u001b[39;00m\n\u001b[0;32m--> 229\u001b[0m \u001b[38;5;28;01mraise\u001b[39;00m exception_class(message, screen, stacktrace)\n",
      "\u001b[0;31mNoSuchElementException\u001b[0m: Message: no such element: Unable to locate element: {\"method\":\"xpath\",\"selector\":\"//pagination-controls//pagination-template//ul//li/a/span/span[text()='4']\"}\n  (Session info: chrome=120.0.6099.216); For documentation on this error, please visit: https://www.selenium.dev/documentation/webdriver/troubleshooting/errors#no-such-element-exception\nStacktrace:\n0   chromedriver                        0x00000001030cc4dc chromedriver + 4162780\n1   chromedriver                        0x00000001030c4664 chromedriver + 4130404\n2   chromedriver                        0x0000000102d1bbc0 chromedriver + 293824\n3   chromedriver                        0x0000000102d62040 chromedriver + 581696\n4   chromedriver                        0x0000000102da1ab0 chromedriver + 842416\n5   chromedriver                        0x0000000102d556bc chromedriver + 530108\n6   chromedriver                        0x0000000102d56930 chromedriver + 534832\n7   chromedriver                        0x0000000103091e08 chromedriver + 3923464\n8   chromedriver                        0x00000001030963dc chromedriver + 3941340\n9   chromedriver                        0x000000010307a038 chromedriver + 3825720\n10  chromedriver                        0x0000000103096f3c chromedriver + 3944252\n11  chromedriver                        0x000000010306c6f4 chromedriver + 3770100\n12  chromedriver                        0x00000001030b3980 chromedriver + 4061568\n13  chromedriver                        0x00000001030b3af8 chromedriver + 4061944\n14  chromedriver                        0x00000001030c42e4 chromedriver + 4129508\n15  libsystem_pthread.dylib             0x0000000188e1a034 _pthread_start + 136\n16  libsystem_pthread.dylib             0x0000000188e14e3c thread_start + 8\n"
     ]
    }
   ],
   "source": [
    "# Locate the \"Next\" button on the webpage and click it to navigate to the next page\n",
    "from selenium.webdriver.common.by import By\n",
    "# next_page = driver.find_element(By.XPATH, \"//pagination-controls//pagination-template//ul//li[@class='pagination-next']/a\").click()\n",
    "next_page = driver.find_element(By.XPATH, \"//pagination-controls//pagination-template//ul//li/a/span/span[text()='4']\")"
   ]
  },
  {
   "cell_type": "code",
   "execution_count": 10,
   "id": "a1ae6741",
   "metadata": {
    "scrolled": true
   },
   "outputs": [
    {
     "name": "stdout",
     "output_type": "stream",
     "text": [
      "Unable to extract total pages from the provided text.\n"
     ]
    }
   ],
   "source": [
    "# Locate all elements in the pagination element and extract the total number of pages\n",
    "# all_list_elements = driver.find_elements(By.XPATH,\"//*[@class='table__pagination--main']/pagination-controls/pagination-template/ul/li/a/span/span\")\n",
    "# number_of_pages = int(all_list_elements[].text)\n",
    "# print(len(all_list_elements))\n",
    "\n",
    "#all_list_elements = driver.find_element(By.CLASS_NAME, \"small-screen\")\n",
    "\n",
    "#if all_list_elements:\n",
    "    #number_of_pages = int(all_list_elements[-1].text)\n",
    "    #print(len(all_list_elements))\n",
    "#else:\n",
    "    #print(\"No elements found.\")\n",
    "all_list_elements = driver.find_element(By.CLASS_NAME, \"small-screen\")\n",
    "\n",
    "# Extract the text from the \"small-screen\" element\n",
    "text = all_list_elements.text.strip()\n",
    "\n",
    "# Extract the total number of pages (assuming the text = small_screen_element.text.strip()\n",
    "\n",
    "try:\n",
    "    total_pages = int(text.split('/')[1])\n",
    "    print(f\"Total Pages: {total_pages}\")\n",
    "except (IndexError, ValueError):\n",
    "    print(\"Unable to extract total pages from the provided text.\")\n"
   ]
  },
  {
   "cell_type": "code",
   "execution_count": 42,
   "id": "d0efb7f7",
   "metadata": {},
   "outputs": [],
   "source": [
    "## Define a function to extract the data from the current page of the pagination element\n",
    "def extract_page_data(driver):\n",
    "    # Initialize an empty list to store the data\n",
    "    page_output = []\n",
    "\n",
    "    # Locate all elements on the current page of the pagination element\n",
    "    # page_elements = driver.find_elements(By.XPATH,'//pagination-controls//pagination-template//ul/li/a/span/span[contains(text(), \"4\")]'\n",
    "    page_elements = driver.find_element(By.XPATH, '//pagination-controls//pagination-template//ul/li/a/span/span[contains(text(), \"4\")]')\n",
    "    # Iterate through the list of elements\n",
    "    for each_element in page_elements:\n",
    "        # Extract the text content of each element\n",
    "        each_element_value = each_element.get_attribute('innerHTML')\n",
    "        # Add the extracted text content to the page_output list\n",
    "        page_output.append(each_element_value)\n",
    "\n",
    "    # Return the page_output list\n",
    "    return page_output\n"
   ]
  },
  {
   "cell_type": "code",
   "execution_count": 24,
   "id": "cb3beda5",
   "metadata": {},
   "outputs": [],
   "source": [
    "# Initialize an empty list to store the data from all pages\n",
    "final_out = []\n"
   ]
  },
  {
   "cell_type": "code",
   "execution_count": 25,
   "id": "772e24b4",
   "metadata": {},
   "outputs": [
    {
     "ename": "NameError",
     "evalue": "name 'number_of_pages' is not defined",
     "output_type": "error",
     "traceback": [
      "\u001b[0;31m---------------------------------------------------------------------------\u001b[0m",
      "\u001b[0;31mNameError\u001b[0m                                 Traceback (most recent call last)",
      "Cell \u001b[0;32mIn[25], line 2\u001b[0m\n\u001b[1;32m      1\u001b[0m \u001b[38;5;66;03m# Iterate through the pages\u001b[39;00m\n\u001b[0;32m----> 2\u001b[0m \u001b[38;5;28;01mfor\u001b[39;00m page_num \u001b[38;5;129;01min\u001b[39;00m \u001b[38;5;28mrange\u001b[39m(number_of_pages):\n\u001b[1;32m      3\u001b[0m     \u001b[38;5;66;03m# Extract the data from the current page\u001b[39;00m\n\u001b[1;32m      4\u001b[0m     page_output \u001b[38;5;241m=\u001b[39m extract_page_data(driver)\n\u001b[1;32m      5\u001b[0m     \u001b[38;5;66;03m# Add the data to the final_out list as a dictionary with the page number as the key\u001b[39;00m\n",
      "\u001b[0;31mNameError\u001b[0m: name 'number_of_pages' is not defined"
     ]
    }
   ],
   "source": [
    "# Iterate through the pages\n",
    "for page_num in range(number_of_pages):\n",
    "    # Extract the data from the current page\n",
    "    page_output = extract_page_data(driver)\n",
    "    # Add the data to the final_out list as a dictionary with the page number as the key\n",
    "    final_out.append({\n",
    "        page_num: page_output\n",
    "    })"
   ]
  },
  {
   "cell_type": "code",
   "execution_count": 9,
   "id": "aedc0fbd",
   "metadata": {},
   "outputs": [],
   "source": [
    "# Get the page source after JavaScript execution\n",
    "page_source = driver.page_source"
   ]
  },
  {
   "cell_type": "code",
   "execution_count": 10,
   "id": "413d0ad1",
   "metadata": {},
   "outputs": [],
   "source": [
    "# Close the browser\n",
    "driver.quit()"
   ]
  },
  {
   "cell_type": "code",
   "execution_count": 11,
   "id": "fd39458e",
   "metadata": {},
   "outputs": [],
   "source": [
    "# Use BeautifulSoup to parse the page source\n",
    "soup = BeautifulSoup(page_source, 'html.parser')"
   ]
  },
  {
   "cell_type": "code",
   "execution_count": null,
   "id": "40cb1420",
   "metadata": {},
   "outputs": [],
   "source": [
    "print(soup)"
   ]
  }
 ],
 "metadata": {
  "kernelspec": {
   "display_name": "Python 3 (ipykernel)",
   "language": "python",
   "name": "python3"
  },
  "language_info": {
   "codemirror_mode": {
    "name": "ipython",
    "version": 3
   },
   "file_extension": ".py",
   "mimetype": "text/x-python",
   "name": "python",
   "nbconvert_exporter": "python",
   "pygments_lexer": "ipython3",
   "version": "3.11.5"
  },
  "varInspector": {
   "cols": {
    "lenName": 16,
    "lenType": 16,
    "lenVar": 40
   },
   "kernels_config": {
    "python": {
     "delete_cmd_postfix": "",
     "delete_cmd_prefix": "del ",
     "library": "var_list.py",
     "varRefreshCmd": "print(var_dic_list())"
    },
    "r": {
     "delete_cmd_postfix": ") ",
     "delete_cmd_prefix": "rm(",
     "library": "var_list.r",
     "varRefreshCmd": "cat(var_dic_list()) "
    }
   },
   "types_to_exclude": [
    "module",
    "function",
    "builtin_function_or_method",
    "instance",
    "_Feature"
   ],
   "window_display": false
  }
 },
 "nbformat": 4,
 "nbformat_minor": 5
}
