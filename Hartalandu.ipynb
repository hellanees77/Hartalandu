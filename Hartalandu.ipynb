{
 "cells": [
  {
   "cell_type": "code",
   "execution_count": 1,
   "id": "3a11981b",
   "metadata": {},
   "outputs": [],
   "source": [
    "from bs4 import BeautifulSoup as bs\n",
    "import requests"
   ]
  },
  {
   "cell_type": "code",
   "execution_count": 2,
   "id": "cf5f7a6a",
   "metadata": {},
   "outputs": [],
   "source": [
    "link = 'https://nepalstock.com.np/floorsheet'"
   ]
  },
  {
   "cell_type": "code",
   "execution_count": 3,
   "id": "b745c3aa",
   "metadata": {},
   "outputs": [
    {
     "name": "stdout",
     "output_type": "stream",
     "text": [
      "<!DOCTYPE html>\n",
      "<html lang=\"en\">\n",
      "  <head>\n",
      "    <meta charset=\"utf-8\" />\n",
      "    <title>Nepal Stock Exchange</title>\n",
      "    <base href=\"/\" />\n",
      "    <meta name=\"viewport\" content=\"width=device-width, initial-scale=1\" />\n",
      "    <link rel=\"icon\" type=\"image/x-icon\" href=\"assets/img/favicon.ico\" />\n",
      "    <link\n",
      "      href=\"https://fonts.googleapis.com/css?family=Roboto\"\n",
      "      rel=\"stylesheet\"\n",
      "      type=\"text/css\"\n",
      "    />\n",
      "    <link\n",
      "      href=\"https://fonts.googleapis.com/css?family=Noto+Sans:400,700&display=swap\"\n",
      "      rel=\"stylesheet\"\n",
      "    />\n",
      "    <link\n",
      "      href=\"https://fonts.googleapis.com/css?family=Source+Sans+Pro:400,600,700\"\n",
      "      rel=\"stylesheet\"\n",
      "    />\n",
      "    <link\n",
      "      rel=\"stylesheet\"\n",
      "      href=\"https://use.fontawesome.com/releases/v5.8.1/css/all.css\"\n",
      "    />\n",
      "    <link\n",
      "      href=\"https://fonts.googleapis.com/css?family=Roboto:300,400,500\"\n",
      "      rel=\"stylesheet\"\n",
      "    />\n",
      "    <link\n",
      "      href=\"https://fonts.googleapis.com/icon?family=Material+Icons\"\n",
      "      rel=\"stylesheet\"\n",
      "    />\n",
      "  <link rel=\"stylesheet\" href=\"styles.552ced02a43746331a6d.css\"></head>\n",
      "\n",
      "  <body oncontextmenu=\"return false;\">\n",
      "    <div class=\"preloader\">\n",
      "      <div class=\"load\">\n",
      "        <div class=\"load__wrap\">\n",
      "          <div class=\"load__out\">\n",
      "            <div class=\"load__in\">\n",
      "              <span>NEPSE</span>\n",
      "            </div>\n",
      "          </div>\n",
      "\n",
      "          <span class=\"load__text\"> Loading... </span>\n",
      "        </div>\n",
      "      </div>\n",
      "    </div>\n",
      "    <app-root> </app-root>\n",
      "  <script type=\"text/javascript\" src=\"runtime.c7c98e1287453fa31bed.js\"></script><script type=\"text/javascript\" src=\"es2015-polyfills.8db7493dfa2eeba86bd5.js\" nomodule></script><script type=\"text/javascript\" src=\"polyfills.d9c6f42c392d3399d7b1.js\"></script><script type=\"text/javascript\" src=\"scripts.78fbe7d668d564c4f55e.js\"></script><script type=\"text/javascript\" src=\"main.bbc3f6b0d197dc978a61.js\"></script></body>\n",
      "\n",
      "  <script>\n",
      "    // $(document).ready(function(){\n",
      "    //   $(\"#index__more\").on('click', function(e){\n",
      "    //       e.preventDefault();\n",
      "    //       $('.index__chart').toggleClass('move');\n",
      "    //       $('.index__subindices').toggleClass('show');\n",
      "    //     });\n",
      "\n",
      "    //     $('.index__subindices--overlay').on('click', function(e){\n",
      "    //       $('.index__chart').removeClass('move');\n",
      "    //       $('.index__subindices').removeClass('show');\n",
      "    //     });\n",
      "\n",
      "    $(\"#disclaim\").on(\"click\", function (e) {\n",
      "      $(\".beta\").toggleClass(\"show\");\n",
      "    });\n",
      "    // });\n",
      "\n",
      "    (function () {\n",
      "      let loader = document.querySelector(\".load\");\n",
      "      loader.classList.add(\"hide\");\n",
      "    })();\n",
      "\n",
      "    //   $(function () {\n",
      "    //       $('[data-toggle=\"tooltip\"]').tooltip()\n",
      "    //     });\n",
      "    var Module = {\n",
      "      locateFile: function (s) {\n",
      "        return \"html\" + s;\n",
      "      },\n",
      "    };\n",
      "  </script>\n",
      "</html>\n",
      "\n"
     ]
    },
    {
     "name": "stderr",
     "output_type": "stream",
     "text": [
      "/Applications/Utilities/anaconda3/lib/python3.11/site-packages/urllib3/connectionpool.py:1056: InsecureRequestWarning: Unverified HTTPS request is being made to host 'nepalstock.com.np'. Adding certificate verification is strongly advised. See: https://urllib3.readthedocs.io/en/1.26.x/advanced-usage.html#ssl-warnings\n",
      "  warnings.warn(\n"
     ]
    }
   ],
   "source": [
    "headers = requests.utils.default_headers()\n",
    "headers.update(\n",
    "    {\n",
    "        'User-Agent': 'My User Agent 1.0',\n",
    "    }\n",
    ")\n",
    "page = requests.get(link, headers=headers, verify=False)\n",
    "print(page.text)"
   ]
  },
  {
   "cell_type": "code",
   "execution_count": 4,
   "id": "27ebca1f",
   "metadata": {},
   "outputs": [
    {
     "data": {
      "text/plain": [
       "b'<!DOCTYPE html>\\n<html lang=\"en\">\\n  <head>\\n    <meta charset=\"utf-8\" />\\n    <title>Nepal Stock Exchange</title>\\n    <base href=\"/\" />\\n    <meta name=\"viewport\" content=\"width=device-width, initial-scale=1\" />\\n    <link rel=\"icon\" type=\"image/x-icon\" href=\"assets/img/favicon.ico\" />\\n    <link\\n      href=\"https://fonts.googleapis.com/css?family=Roboto\"\\n      rel=\"stylesheet\"\\n      type=\"text/css\"\\n    />\\n    <link\\n      href=\"https://fonts.googleapis.com/css?family=Noto+Sans:400,700&display=swap\"\\n      rel=\"stylesheet\"\\n    />\\n    <link\\n      href=\"https://fonts.googleapis.com/css?family=Source+Sans+Pro:400,600,700\"\\n      rel=\"stylesheet\"\\n    />\\n    <link\\n      rel=\"stylesheet\"\\n      href=\"https://use.fontawesome.com/releases/v5.8.1/css/all.css\"\\n    />\\n    <link\\n      href=\"https://fonts.googleapis.com/css?family=Roboto:300,400,500\"\\n      rel=\"stylesheet\"\\n    />\\n    <link\\n      href=\"https://fonts.googleapis.com/icon?family=Material+Icons\"\\n      rel=\"stylesheet\"\\n    />\\n  <link rel=\"stylesheet\" href=\"styles.552ced02a43746331a6d.css\"></head>\\n\\n  <body oncontextmenu=\"return false;\">\\n    <div class=\"preloader\">\\n      <div class=\"load\">\\n        <div class=\"load__wrap\">\\n          <div class=\"load__out\">\\n            <div class=\"load__in\">\\n              <span>NEPSE</span>\\n            </div>\\n          </div>\\n\\n          <span class=\"load__text\"> Loading... </span>\\n        </div>\\n      </div>\\n    </div>\\n    <app-root> </app-root>\\n  <script type=\"text/javascript\" src=\"runtime.c7c98e1287453fa31bed.js\"></script><script type=\"text/javascript\" src=\"es2015-polyfills.8db7493dfa2eeba86bd5.js\" nomodule></script><script type=\"text/javascript\" src=\"polyfills.d9c6f42c392d3399d7b1.js\"></script><script type=\"text/javascript\" src=\"scripts.78fbe7d668d564c4f55e.js\"></script><script type=\"text/javascript\" src=\"main.bbc3f6b0d197dc978a61.js\"></script></body>\\n\\n  <script>\\n    // $(document).ready(function(){\\n    //   $(\"#index__more\").on(\\'click\\', function(e){\\n    //       e.preventDefault();\\n    //       $(\\'.index__chart\\').toggleClass(\\'move\\');\\n    //       $(\\'.index__subindices\\').toggleClass(\\'show\\');\\n    //     });\\n\\n    //     $(\\'.index__subindices--overlay\\').on(\\'click\\', function(e){\\n    //       $(\\'.index__chart\\').removeClass(\\'move\\');\\n    //       $(\\'.index__subindices\\').removeClass(\\'show\\');\\n    //     });\\n\\n    $(\"#disclaim\").on(\"click\", function (e) {\\n      $(\".beta\").toggleClass(\"show\");\\n    });\\n    // });\\n\\n    (function () {\\n      let loader = document.querySelector(\".load\");\\n      loader.classList.add(\"hide\");\\n    })();\\n\\n    //   $(function () {\\n    //       $(\\'[data-toggle=\"tooltip\"]\\').tooltip()\\n    //     });\\n    var Module = {\\n      locateFile: function (s) {\\n        return \"html\" + s;\\n      },\\n    };\\n  </script>\\n</html>\\n'"
      ]
     },
     "execution_count": 4,
     "metadata": {},
     "output_type": "execute_result"
    }
   ],
   "source": [
    "page.content"
   ]
  },
  {
   "cell_type": "code",
   "execution_count": 5,
   "id": "d6c20c46",
   "metadata": {},
   "outputs": [],
   "source": [
    "soup = bs(page.content, 'html.parser')"
   ]
  },
  {
   "cell_type": "code",
   "execution_count": 6,
   "id": "fcc3fcad",
   "metadata": {},
   "outputs": [
    {
     "name": "stdout",
     "output_type": "stream",
     "text": [
      "<!DOCTYPE html>\n",
      "<html lang=\"en\">\n",
      " <head>\n",
      "  <meta charset=\"utf-8\"/>\n",
      "  <title>\n",
      "   Nepal Stock Exchange\n",
      "  </title>\n",
      "  <base href=\"/\"/>\n",
      "  <meta content=\"width=device-width, initial-scale=1\" name=\"viewport\"/>\n",
      "  <link href=\"assets/img/favicon.ico\" rel=\"icon\" type=\"image/x-icon\"/>\n",
      "  <link href=\"https://fonts.googleapis.com/css?family=Roboto\" rel=\"stylesheet\" type=\"text/css\"/>\n",
      "  <link href=\"https://fonts.googleapis.com/css?family=Noto+Sans:400,700&amp;display=swap\" rel=\"stylesheet\"/>\n",
      "  <link href=\"https://fonts.googleapis.com/css?family=Source+Sans+Pro:400,600,700\" rel=\"stylesheet\"/>\n",
      "  <link href=\"https://use.fontawesome.com/releases/v5.8.1/css/all.css\" rel=\"stylesheet\"/>\n",
      "  <link href=\"https://fonts.googleapis.com/css?family=Roboto:300,400,500\" rel=\"stylesheet\"/>\n",
      "  <link href=\"https://fonts.googleapis.com/icon?family=Material+Icons\" rel=\"stylesheet\"/>\n",
      "  <link href=\"styles.552ced02a43746331a6d.css\" rel=\"stylesheet\"/>\n",
      " </head>\n",
      " <body oncontextmenu=\"return false;\">\n",
      "  <div class=\"preloader\">\n",
      "   <div class=\"load\">\n",
      "    <div class=\"load__wrap\">\n",
      "     <div class=\"load__out\">\n",
      "      <div class=\"load__in\">\n",
      "       <span>\n",
      "        NEPSE\n",
      "       </span>\n",
      "      </div>\n",
      "     </div>\n",
      "     <span class=\"load__text\">\n",
      "      Loading...\n",
      "     </span>\n",
      "    </div>\n",
      "   </div>\n",
      "  </div>\n",
      "  <app-root>\n",
      "  </app-root>\n",
      "  <script src=\"runtime.c7c98e1287453fa31bed.js\" type=\"text/javascript\">\n",
      "  </script>\n",
      "  <script nomodule=\"\" src=\"es2015-polyfills.8db7493dfa2eeba86bd5.js\" type=\"text/javascript\">\n",
      "  </script>\n",
      "  <script src=\"polyfills.d9c6f42c392d3399d7b1.js\" type=\"text/javascript\">\n",
      "  </script>\n",
      "  <script src=\"scripts.78fbe7d668d564c4f55e.js\" type=\"text/javascript\">\n",
      "  </script>\n",
      "  <script src=\"main.bbc3f6b0d197dc978a61.js\" type=\"text/javascript\">\n",
      "  </script>\n",
      " </body>\n",
      " <script>\n",
      "  // $(document).ready(function(){\n",
      "    //   $(\"#index__more\").on('click', function(e){\n",
      "    //       e.preventDefault();\n",
      "    //       $('.index__chart').toggleClass('move');\n",
      "    //       $('.index__subindices').toggleClass('show');\n",
      "    //     });\n",
      "\n",
      "    //     $('.index__subindices--overlay').on('click', function(e){\n",
      "    //       $('.index__chart').removeClass('move');\n",
      "    //       $('.index__subindices').removeClass('show');\n",
      "    //     });\n",
      "\n",
      "    $(\"#disclaim\").on(\"click\", function (e) {\n",
      "      $(\".beta\").toggleClass(\"show\");\n",
      "    });\n",
      "    // });\n",
      "\n",
      "    (function () {\n",
      "      let loader = document.querySelector(\".load\");\n",
      "      loader.classList.add(\"hide\");\n",
      "    })();\n",
      "\n",
      "    //   $(function () {\n",
      "    //       $('[data-toggle=\"tooltip\"]').tooltip()\n",
      "    //     });\n",
      "    var Module = {\n",
      "      locateFile: function (s) {\n",
      "        return \"html\" + s;\n",
      "      },\n",
      "    };\n",
      " </script>\n",
      "</html>\n",
      "\n"
     ]
    }
   ],
   "source": [
    "print(soup.prettify())"
   ]
  },
  {
   "cell_type": "code",
   "execution_count": 7,
   "id": "8dc98439",
   "metadata": {},
   "outputs": [],
   "source": [
    "names = soup.find_all(\"div table tbody tr td.text-left\")"
   ]
  },
  {
   "cell_type": "code",
   "execution_count": 8,
   "id": "374317cd",
   "metadata": {},
   "outputs": [
    {
     "data": {
      "text/plain": [
       "0"
      ]
     },
     "execution_count": 8,
     "metadata": {},
     "output_type": "execute_result"
    }
   ],
   "source": [
    "len(names)"
   ]
  },
  {
   "cell_type": "code",
   "execution_count": null,
   "id": "f6b1c928",
   "metadata": {},
   "outputs": [],
   "source": []
  }
 ],
 "metadata": {
  "kernelspec": {
   "display_name": "Python 3 (ipykernel)",
   "language": "python",
   "name": "python3"
  },
  "language_info": {
   "codemirror_mode": {
    "name": "ipython",
    "version": 3
   },
   "file_extension": ".py",
   "mimetype": "text/x-python",
   "name": "python",
   "nbconvert_exporter": "python",
   "pygments_lexer": "ipython3",
   "version": "3.11.5"
  },
  "varInspector": {
   "cols": {
    "lenName": 16,
    "lenType": 16,
    "lenVar": 40
   },
   "kernels_config": {
    "python": {
     "delete_cmd_postfix": "",
     "delete_cmd_prefix": "del ",
     "library": "var_list.py",
     "varRefreshCmd": "print(var_dic_list())"
    },
    "r": {
     "delete_cmd_postfix": ") ",
     "delete_cmd_prefix": "rm(",
     "library": "var_list.r",
     "varRefreshCmd": "cat(var_dic_list()) "
    }
   },
   "types_to_exclude": [
    "module",
    "function",
    "builtin_function_or_method",
    "instance",
    "_Feature"
   ],
   "window_display": false
  }
 },
 "nbformat": 4,
 "nbformat_minor": 5
}
