{
 "cells": [
  {
   "cell_type": "code",
   "execution_count": 3,
   "id": "4b2aed08",
   "metadata": {},
   "outputs": [],
   "source": [
    "from selenium import webdriver\n",
    "from selenium.webdriver.common.by import By\n",
    "from bs4 import BeautifulSoup"
   ]
  },
  {
   "cell_type": "code",
   "execution_count": 4,
   "id": "8fb42347",
   "metadata": {},
   "outputs": [],
   "source": [
    "# Set up the webdriver (assuming you've already initialized it)\n",
    "driver = webdriver.Chrome()\n"
   ]
  },
  {
   "cell_type": "code",
   "execution_count": 5,
   "id": "6299f870",
   "metadata": {},
   "outputs": [],
   "source": [
    "# Your URL here\n",
    "url = \"https://www.nepalstock.com.np/floor-sheet\"\n",
    "driver.get(url)\n"
   ]
  },
  {
   "cell_type": "code",
   "execution_count": 6,
   "id": "79c4c6c7",
   "metadata": {},
   "outputs": [],
   "source": [
    "# Assuming you have some initial code to navigate to the page and get the HTML content\n",
    "# ...\n",
    "\n",
    "# Get the pagination element\n",
    "pagination_element = driver.find_element(By.CLASS_NAME, 'table__pagination--main')\n"
   ]
  },
  {
   "cell_type": "code",
   "execution_count": 7,
   "id": "c5d9f39e",
   "metadata": {},
   "outputs": [],
   "source": [
    "# Extract details from the pagination element\n",
    "soup = BeautifulSoup(pagination_element.get_attribute(\"outerHTML\"), 'html.parser')"
   ]
  },
  {
   "cell_type": "code",
   "execution_count": 10,
   "id": "97584a23",
   "metadata": {},
   "outputs": [
    {
     "ename": "AttributeError",
     "evalue": "'NoneType' object has no attribute 'get_text'",
     "output_type": "error",
     "traceback": [
      "\u001b[0;31m---------------------------------------------------------------------------\u001b[0m",
      "\u001b[0;31mAttributeError\u001b[0m                            Traceback (most recent call last)",
      "Cell \u001b[0;32mIn[10], line 3\u001b[0m\n\u001b[1;32m      1\u001b[0m \u001b[38;5;66;03m# Extract current page\u001b[39;00m\n\u001b[1;32m      2\u001b[0m current_page_element \u001b[38;5;241m=\u001b[39m soup\u001b[38;5;241m.\u001b[39mfind(\u001b[38;5;124m'\u001b[39m\u001b[38;5;124mspan\u001b[39m\u001b[38;5;124m'\u001b[39m, class_\u001b[38;5;241m=\u001b[39m\u001b[38;5;124m'\u001b[39m\u001b[38;5;124mshow-for-sr\u001b[39m\u001b[38;5;124m'\u001b[39m)\n\u001b[0;32m----> 3\u001b[0m current_page \u001b[38;5;241m=\u001b[39m \u001b[38;5;28mint\u001b[39m(current_page_element\u001b[38;5;241m.\u001b[39mspan\u001b[38;5;241m.\u001b[39mget_text())\n",
      "\u001b[0;31mAttributeError\u001b[0m: 'NoneType' object has no attribute 'get_text'"
     ]
    }
   ],
   "source": [
    "# Extract current page\n",
    "current_page_element = soup.find('span', class_='show-for-sr')\n",
    "current_page = int(current_page_element.span.get_text())\n"
   ]
  },
  {
   "cell_type": "code",
   "execution_count": null,
   "id": "e6eecfb3",
   "metadata": {},
   "outputs": [],
   "source": [
    "# Extract total number of pages\n",
    "total_pages_element = soup.find('li', class_='show-for-sr')\n",
    "total_pages_text = total_pages_element.get_text(strip=True)\n",
    "_, total_pages = map(int, total_pages_text.split('/'))\n"
   ]
  },
  {
   "cell_type": "code",
   "execution_count": null,
   "id": "e8c1ae1c",
   "metadata": {},
   "outputs": [],
   "source": [
    "# Extract links to individual pages\n",
    "page_links = [a['href'] for a in soup.find_all('a', href=True)]\n"
   ]
  },
  {
   "cell_type": "code",
   "execution_count": null,
   "id": "48e211cd",
   "metadata": {},
   "outputs": [],
   "source": [
    "# Display the extracted information\n",
    "print(f\"Current Page: {current_page}\")\n",
    "print(f\"Total Pages: {total_pages}\")\n",
    "print(f\"Page Links: {page_links}\")\n"
   ]
  },
  {
   "cell_type": "code",
   "execution_count": null,
   "id": "4feb3c24",
   "metadata": {},
   "outputs": [],
   "source": [
    "# Close the webdriver when done\n",
    "# driver.quit()"
   ]
  }
 ],
 "metadata": {
  "kernelspec": {
   "display_name": "Python 3 (ipykernel)",
   "language": "python",
   "name": "python3"
  },
  "language_info": {
   "codemirror_mode": {
    "name": "ipython",
    "version": 3
   },
   "file_extension": ".py",
   "mimetype": "text/x-python",
   "name": "python",
   "nbconvert_exporter": "python",
   "pygments_lexer": "ipython3",
   "version": "3.11.5"
  },
  "varInspector": {
   "cols": {
    "lenName": 16,
    "lenType": 16,
    "lenVar": 40
   },
   "kernels_config": {
    "python": {
     "delete_cmd_postfix": "",
     "delete_cmd_prefix": "del ",
     "library": "var_list.py",
     "varRefreshCmd": "print(var_dic_list())"
    },
    "r": {
     "delete_cmd_postfix": ") ",
     "delete_cmd_prefix": "rm(",
     "library": "var_list.r",
     "varRefreshCmd": "cat(var_dic_list()) "
    }
   },
   "types_to_exclude": [
    "module",
    "function",
    "builtin_function_or_method",
    "instance",
    "_Feature"
   ],
   "window_display": false
  }
 },
 "nbformat": 4,
 "nbformat_minor": 5
}
